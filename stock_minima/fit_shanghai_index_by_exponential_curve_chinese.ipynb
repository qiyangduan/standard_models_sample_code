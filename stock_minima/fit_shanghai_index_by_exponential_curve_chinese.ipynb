{
 "cells": [
  {
   "cell_type": "markdown",
   "metadata": {
    "collapsed": false
   },
   "source": [
    "# 20220314: 利用最简单的回归模型看一下上证综指，恒生指数的婴儿底到底在哪里"
   ]
  },
  {
   "cell_type": "markdown",
   "metadata": {},
   "source": [
    "## 基本结论：\n",
    "- 在2022年4月，上证总值平均的预期股指底部在3193点左右。 \n",
    "- 在2022年4月，出现比2791更低的最低值的概率有15%。但是同样有15%的概率，股指会一直大于3594。\n",
    "- 恒生指数最低的平均期望值是24719， 1-Sigma区间是(21292, 28145)."
   ]
  },
  {
   "cell_type": "markdown",
   "metadata": {},
   "source": [
    "## 分析模型假设：\n",
    "- 股指是按照指数增长,也就是 y=e^x。这个假定太简单，以至于我都没法从学术论文里面找到什么人这么玩。不过直观上看，相信只要中国的GDP按照指数增长，股指也应该类似按照指数增长。中国过去几十年也的确实按照指数5%-10%的增长的。股价反应预期，我也假定目前为止所有的人也会相信因为最后不管是政府撒钱搞通胀，还是实体经济真正增长，只要GDP增长，社会的名义财富增长，那么股指应该是上涨的。这个假定应该只对一段时间有用，比如对于日本这种变成负增长的经济体可能就不成立。所以大家看这个结论的时候可以自己掂量。\n",
    "- 随机因素我们假定按照正态分布，也就是真实的股指底部将按照股指底部的期望值上下服从高斯正态分布。\n",
    "- 最底部的数值是相对稳定的，而最大值是变化更大的。所以本文的模型集中分析股指最底部。\n",
    "\n"
   ]
  },
  {
   "cell_type": "markdown",
   "metadata": {},
   "source": [
    "简单讲这里就是***一个指数增长模型和一个正态分布模型的组合***。这个分析模型是用Jupyter创建的。如果你需要本地运行并验证这个模型，可以下载[Anaconda](https://www.continuum.io/downloads)安装后就有Jupyter，应该就能跑了，如果发现缺的，就用pip安装缺的包就可以了。"
   ]
  },
  {
   "cell_type": "markdown",
   "metadata": {},
   "source": [
    "## 下面是具体的模型分析："
   ]
  },
  {
   "cell_type": "code",
   "execution_count": 21,
   "metadata": {},
   "outputs": [],
   "source": [
    "# !pip install pandas_datareader"
   ]
  },
  {
   "cell_type": "code",
   "execution_count": 22,
   "metadata": {
    "collapsed": false
   },
   "outputs": [],
   "source": [
    "from pandas_datareader import data as web\n",
    "import datetime\n",
    "import pandas as pd\n",
    "import scipy\n",
    "import numpy as np \n",
    "from scipy.optimize import curve_fit\n",
    "\n",
    "\n",
    "import matplotlib.pyplot as plt\n",
    "%matplotlib inline"
   ]
  },
  {
   "cell_type": "markdown",
   "metadata": {
    "collapsed": false
   },
   "source": [
    "我们的第一步是下载股票指数，这里用Pandas自带的DataReader来读取股票数据。 大概看了一下后，似乎1992年之前股指有个很大的跳升，作为非专业人士，也不知道发生了什么，所以就从看着比较合适的1992年开始到现在进行分析。"
   ]
  },
  {
   "cell_type": "code",
   "execution_count": 70,
   "metadata": {},
   "outputs": [],
   "source": [
    "start = datetime.datetime(1997, 8, 12)\n",
    "end = datetime.datetime(2022, 3, 20)\n",
    "time_window_points = 200\n"
   ]
  },
  {
   "cell_type": "code",
   "execution_count": 67,
   "metadata": {
    "collapsed": false
   },
   "outputs": [],
   "source": [
    "\n",
    "# If you want to run this notebook at your local instance, uncomment those lines of code and fetch the latest index from Yahoo again.\n",
    "# Refer to:  http://pandas.pydata.org/pandas-docs/stable/remote_data.html\n",
    "# shanghai = web.DataReader(\"000001.SS\", 'yahoo', start, end)\n",
    "# shanghai.to_csv('stock_minima_shanghai_index_1997_2022.csv')\n",
    "\n",
    "\n",
    "shanghai = web.DataReader(\"^HSI\", 'yahoo', start, end)\n",
    "shanghai.to_csv('stock_minima_hsi_index_1997_2022.csv')\n",
    "\n",
    "# I saved and reloaded from this location as a cache for my testing purpose.\n",
    "#shanghai = pd.DataFrame.from_csv('C:\\qduan\\Stanmo\\stock_minima\\shanghai_index_1992_2016.csv')\n",
    "#print(shanghai.count())\n"
   ]
  },
  {
   "cell_type": "markdown",
   "metadata": {},
   "source": [
    "要分析股指对于时间的增长，我们需要把时间转换成做一个实数联系续增长的间隔天数，也就是从开始的1992年开始到每一天的间隔天数\"days\"。我们假定股指是某一个增长率每天\"days\"增长的。\n",
    "然后我们可以简单看一下下载并转换后的数据结构，基本上世界上所有的股票都是监控这几个指标，其中我们将重点分析最低价格\"Low\"。"
   ]
  },
  {
   "cell_type": "code",
   "execution_count": 57,
   "metadata": {
    "collapsed": false
   },
   "outputs": [
    {
     "data": {
      "text/html": [
       "<div>\n",
       "<style scoped>\n",
       "    .dataframe tbody tr th:only-of-type {\n",
       "        vertical-align: middle;\n",
       "    }\n",
       "\n",
       "    .dataframe tbody tr th {\n",
       "        vertical-align: top;\n",
       "    }\n",
       "\n",
       "    .dataframe thead th {\n",
       "        text-align: right;\n",
       "    }\n",
       "</style>\n",
       "<table border=\"1\" class=\"dataframe\">\n",
       "  <thead>\n",
       "    <tr style=\"text-align: right;\">\n",
       "      <th></th>\n",
       "      <th>High</th>\n",
       "      <th>Low</th>\n",
       "      <th>Open</th>\n",
       "      <th>Close</th>\n",
       "      <th>Volume</th>\n",
       "      <th>Adj Close</th>\n",
       "      <th>date1</th>\n",
       "      <th>days</th>\n",
       "    </tr>\n",
       "    <tr>\n",
       "      <th>Date</th>\n",
       "      <th></th>\n",
       "      <th></th>\n",
       "      <th></th>\n",
       "      <th></th>\n",
       "      <th></th>\n",
       "      <th></th>\n",
       "      <th></th>\n",
       "      <th></th>\n",
       "    </tr>\n",
       "  </thead>\n",
       "  <tbody>\n",
       "    <tr>\n",
       "      <th>1997-08-12</th>\n",
       "      <td>16660.800781</td>\n",
       "      <td>16320.299805</td>\n",
       "      <td>16572.000000</td>\n",
       "      <td>16383.400391</td>\n",
       "      <td>0.0</td>\n",
       "      <td>16383.400391</td>\n",
       "      <td>1997-08-12</td>\n",
       "      <td>0</td>\n",
       "    </tr>\n",
       "    <tr>\n",
       "      <th>1997-08-13</th>\n",
       "      <td>16484.900391</td>\n",
       "      <td>16176.299805</td>\n",
       "      <td>16318.599609</td>\n",
       "      <td>16482.900391</td>\n",
       "      <td>0.0</td>\n",
       "      <td>16482.900391</td>\n",
       "      <td>1997-08-13</td>\n",
       "      <td>1</td>\n",
       "    </tr>\n",
       "    <tr>\n",
       "      <th>1997-08-14</th>\n",
       "      <td>16541.000000</td>\n",
       "      <td>16337.599609</td>\n",
       "      <td>16465.000000</td>\n",
       "      <td>16497.699219</td>\n",
       "      <td>0.0</td>\n",
       "      <td>16497.699219</td>\n",
       "      <td>1997-08-14</td>\n",
       "      <td>2</td>\n",
       "    </tr>\n",
       "    <tr>\n",
       "      <th>1997-08-15</th>\n",
       "      <td>16555.500000</td>\n",
       "      <td>16002.900391</td>\n",
       "      <td>16503.599609</td>\n",
       "      <td>16096.900391</td>\n",
       "      <td>0.0</td>\n",
       "      <td>16096.900391</td>\n",
       "      <td>1997-08-15</td>\n",
       "      <td>3</td>\n",
       "    </tr>\n",
       "    <tr>\n",
       "      <th>1997-08-19</th>\n",
       "      <td>15848.799805</td>\n",
       "      <td>15355.900391</td>\n",
       "      <td>15559.700195</td>\n",
       "      <td>15477.299805</td>\n",
       "      <td>0.0</td>\n",
       "      <td>15477.299805</td>\n",
       "      <td>1997-08-19</td>\n",
       "      <td>7</td>\n",
       "    </tr>\n",
       "  </tbody>\n",
       "</table>\n",
       "</div>"
      ],
      "text/plain": [
       "                    High           Low          Open         Close  Volume  \\\n",
       "Date                                                                         \n",
       "1997-08-12  16660.800781  16320.299805  16572.000000  16383.400391     0.0   \n",
       "1997-08-13  16484.900391  16176.299805  16318.599609  16482.900391     0.0   \n",
       "1997-08-14  16541.000000  16337.599609  16465.000000  16497.699219     0.0   \n",
       "1997-08-15  16555.500000  16002.900391  16503.599609  16096.900391     0.0   \n",
       "1997-08-19  15848.799805  15355.900391  15559.700195  15477.299805     0.0   \n",
       "\n",
       "               Adj Close      date1  days  \n",
       "Date                                       \n",
       "1997-08-12  16383.400391 1997-08-12     0  \n",
       "1997-08-13  16482.900391 1997-08-13     1  \n",
       "1997-08-14  16497.699219 1997-08-14     2  \n",
       "1997-08-15  16096.900391 1997-08-15     3  \n",
       "1997-08-19  15477.299805 1997-08-19     7  "
      ]
     },
     "execution_count": 57,
     "metadata": {},
     "output_type": "execute_result"
    }
   ],
   "source": [
    "sh = shanghai.copy()\n",
    "sh['date1'] = shanghai.index\n",
    "#http://chrisalbon.com/python/pandas_apply_operations_to_dataframes.html\n",
    "sh['days'] = sh['date1'].apply(lambda x:  (x-start).days)\n",
    "sh.head()"
   ]
  },
  {
   "cell_type": "code",
   "execution_count": 59,
   "metadata": {},
   "outputs": [
    {
     "data": {
      "text/html": [
       "<div>\n",
       "<style scoped>\n",
       "    .dataframe tbody tr th:only-of-type {\n",
       "        vertical-align: middle;\n",
       "    }\n",
       "\n",
       "    .dataframe tbody tr th {\n",
       "        vertical-align: top;\n",
       "    }\n",
       "\n",
       "    .dataframe thead th {\n",
       "        text-align: right;\n",
       "    }\n",
       "</style>\n",
       "<table border=\"1\" class=\"dataframe\">\n",
       "  <thead>\n",
       "    <tr style=\"text-align: right;\">\n",
       "      <th></th>\n",
       "      <th>High</th>\n",
       "      <th>Low</th>\n",
       "      <th>Open</th>\n",
       "      <th>Close</th>\n",
       "      <th>Volume</th>\n",
       "      <th>Adj Close</th>\n",
       "      <th>date1</th>\n",
       "      <th>days</th>\n",
       "    </tr>\n",
       "    <tr>\n",
       "      <th>Date</th>\n",
       "      <th></th>\n",
       "      <th></th>\n",
       "      <th></th>\n",
       "      <th></th>\n",
       "      <th></th>\n",
       "      <th></th>\n",
       "      <th></th>\n",
       "      <th></th>\n",
       "    </tr>\n",
       "  </thead>\n",
       "  <tbody>\n",
       "    <tr>\n",
       "      <th>2022-03-08</th>\n",
       "      <td>21303.519531</td>\n",
       "      <td>20638.949219</td>\n",
       "      <td>21082.390625</td>\n",
       "      <td>20765.869141</td>\n",
       "      <td>3.231990e+09</td>\n",
       "      <td>20765.869141</td>\n",
       "      <td>2022-03-08</td>\n",
       "      <td>8974</td>\n",
       "    </tr>\n",
       "    <tr>\n",
       "      <th>2022-03-09</th>\n",
       "      <td>20957.720703</td>\n",
       "      <td>20102.570312</td>\n",
       "      <td>20820.019531</td>\n",
       "      <td>20627.710938</td>\n",
       "      <td>3.674581e+09</td>\n",
       "      <td>20627.710938</td>\n",
       "      <td>2022-03-09</td>\n",
       "      <td>8975</td>\n",
       "    </tr>\n",
       "    <tr>\n",
       "      <th>2022-03-10</th>\n",
       "      <td>21114.439453</td>\n",
       "      <td>20709.619141</td>\n",
       "      <td>21106.570312</td>\n",
       "      <td>20890.259766</td>\n",
       "      <td>2.694331e+09</td>\n",
       "      <td>20890.259766</td>\n",
       "      <td>2022-03-10</td>\n",
       "      <td>8976</td>\n",
       "    </tr>\n",
       "    <tr>\n",
       "      <th>2022-03-11</th>\n",
       "      <td>20778.859375</td>\n",
       "      <td>20079.150391</td>\n",
       "      <td>20460.029297</td>\n",
       "      <td>20553.789062</td>\n",
       "      <td>3.019998e+09</td>\n",
       "      <td>20553.789062</td>\n",
       "      <td>2022-03-11</td>\n",
       "      <td>8977</td>\n",
       "    </tr>\n",
       "    <tr>\n",
       "      <th>2022-03-15</th>\n",
       "      <td>19392.689453</td>\n",
       "      <td>18235.480469</td>\n",
       "      <td>18931.179688</td>\n",
       "      <td>18415.080078</td>\n",
       "      <td>0.000000e+00</td>\n",
       "      <td>18415.080078</td>\n",
       "      <td>2022-03-15</td>\n",
       "      <td>8981</td>\n",
       "    </tr>\n",
       "  </tbody>\n",
       "</table>\n",
       "</div>"
      ],
      "text/plain": [
       "                    High           Low          Open         Close  \\\n",
       "Date                                                                 \n",
       "2022-03-08  21303.519531  20638.949219  21082.390625  20765.869141   \n",
       "2022-03-09  20957.720703  20102.570312  20820.019531  20627.710938   \n",
       "2022-03-10  21114.439453  20709.619141  21106.570312  20890.259766   \n",
       "2022-03-11  20778.859375  20079.150391  20460.029297  20553.789062   \n",
       "2022-03-15  19392.689453  18235.480469  18931.179688  18415.080078   \n",
       "\n",
       "                  Volume     Adj Close      date1  days  \n",
       "Date                                                     \n",
       "2022-03-08  3.231990e+09  20765.869141 2022-03-08  8974  \n",
       "2022-03-09  3.674581e+09  20627.710938 2022-03-09  8975  \n",
       "2022-03-10  2.694331e+09  20890.259766 2022-03-10  8976  \n",
       "2022-03-11  3.019998e+09  20553.789062 2022-03-11  8977  \n",
       "2022-03-15  0.000000e+00  18415.080078 2022-03-15  8981  "
      ]
     },
     "execution_count": 59,
     "metadata": {},
     "output_type": "execute_result"
    }
   ],
   "source": [
    "sh.tail()"
   ]
  },
  {
   "cell_type": "markdown",
   "metadata": {},
   "source": [
    "下面我们首先利用scipy.argrelextrema找出所有历史上的最低点。这个定义也是我自己瞎拍的，如果大家要自己试一下，可以选择其他更加严格或者放松的参数。\n",
    "我定义的历史最低点是在前轴100个交易日内都没有比当前点位更低的交易日，那么我就认为是一个局部最小了。\n",
    "exp_func函数就是我们假定股指服从的分布，a * np.exp(b * x)，我们需要做的是根据历史上所有最小值来训练出合适的a和b，从而得到一个合理的股指最小值的预测。\n",
    "训练的过程我们还是使用scipy里面的curve_fit函数，curve_fit(exp_func, x_minima, y_minima)。 后面的p0参数是之前训练的时候的输出，从这个开始的话收敛会比较快。"
   ]
  },
  {
   "cell_type": "code",
   "execution_count": 60,
   "metadata": {},
   "outputs": [
    {
     "data": {
      "text/plain": [
       "array([   0,    1,    2, ..., 8976, 8977, 8981])"
      ]
     },
     "execution_count": 60,
     "metadata": {},
     "output_type": "execute_result"
    }
   ],
   "source": [
    "x_all"
   ]
  },
  {
   "cell_type": "code",
   "execution_count": 61,
   "metadata": {},
   "outputs": [
    {
     "data": {
      "text/plain": [
       "array([  42,  371,  643,  867, 1631, 1973, 2284, 2855, 4095, 4707, 5260,\n",
       "       5593, 5796, 6056, 6742, 7212, 7815, 8029, 8255, 8751])"
      ]
     },
     "execution_count": 61,
     "metadata": {},
     "output_type": "execute_result"
    }
   ],
   "source": [
    "x_minima"
   ]
  },
  {
   "cell_type": "code",
   "execution_count": 62,
   "metadata": {},
   "outputs": [
    {
     "data": {
      "text/plain": [
       "array([1025.13000488, 1043.02197266, 1047.83300781, 1341.05200195,\n",
       "       1339.19995117, 1311.68395996, 1307.39501953,  998.22802734,\n",
       "       1664.92504883, 2319.73901367, 2132.62597656, 1949.45703125,\n",
       "       1849.6529541 , 1974.38195801, 2638.30200195, 3016.53100586,\n",
       "       2440.90698242, 2733.92407227, 2646.80493164, 3312.7199707 ])"
      ]
     },
     "execution_count": 62,
     "metadata": {},
     "output_type": "execute_result"
    }
   ],
   "source": [
    "y_minima"
   ]
  },
  {
   "cell_type": "code",
   "execution_count": 63,
   "metadata": {},
   "outputs": [
    {
     "data": {
      "text/plain": [
       "High                     13573.9\n",
       "Low                      13463.7\n",
       "Open                     13536.2\n",
       "Close                    13561.5\n",
       "Volume               2.58321e+08\n",
       "Adj Close                13561.5\n",
       "date1        2004-11-08 00:00:00\n",
       "days                        2645\n",
       "Name: 2004-11-08 00:00:00, dtype: object"
      ]
     },
     "execution_count": 63,
     "metadata": {},
     "output_type": "execute_result"
    }
   ],
   "source": [
    "sh.iloc[1785]"
   ]
  },
  {
   "cell_type": "code",
   "execution_count": 71,
   "metadata": {
    "collapsed": false,
    "scrolled": true
   },
   "outputs": [
    {
     "name": "stderr",
     "output_type": "stream",
     "text": [
      "/Users/qiyangduan/temp/py38/lib/python3.8/site-packages/scipy/optimize/minpack.py:828: OptimizeWarning: Covariance of the parameters could not be estimated\n",
      "  warnings.warn('Covariance of the parameters could not be estimated',\n"
     ]
    },
    {
     "data": {
      "image/png": "[encoded data removed]",
      "text/plain": [
       "<Figure size 1008x360 with 1 Axes>"
      ]
     },
     "metadata": {
      "needs_background": "light"
     },
     "output_type": "display_data"
    }
   ],
   "source": [
    "\n",
    "x_all = sh['days'].values\n",
    "y_all = sh['Low'].values\n",
    "\n",
    "# with help of scipy.argrelextrema function, we will first identify all the local minima for later on fitting.\n",
    "# http://docs.scipy.org/doc/scipy-0.17.0/reference/generated/scipy.signal.argrelextrema.html\n",
    "from scipy.signal import argrelextrema\n",
    "local_min_ix =  argrelextrema(y_all, np.less,   order=time_window_points)\n",
    "\n",
    "x_minima=x_all[local_min_ix]\n",
    "y_minima=y_all[local_min_ix]\n",
    "\n",
    "def exp_func(x, a, b, c, d, e):\n",
    "    return a * np.exp(b * x + d) + e\n",
    "popt_minima, pcov_minima = curve_fit(exp_func, x_minima, y_minima, p0=[ 5.69396441e+02,   1.93941219e-04,   2.25849076e+02, 0, 1100], maxfev=88000)\n",
    "\n",
    "plt.figure(figsize=(14,5))\n",
    "plt.plot(x_all, y_all, 'b-', label=\"price vs day\") \n",
    "plt.plot(x_minima, y_minima, 'ro', label=\"Minima\") \n",
    "plt.plot(x_minima, exp_func(x_minima, *popt_minima), 'r-', label=\"Fitted Curve\")\n",
    "plt.legend()\n",
    "plt.show()\n",
    "\n"
   ]
  },
  {
   "cell_type": "markdown",
   "metadata": {},
   "source": [
    "上面的得到的图里面红色的圆点就是每一次的上证最小值。至此，我们已经可以得到在2016年底12月24日（days=8900)股指底部大约应该在2694点，基本是五五开的概率。有50%的概率会出现低于这个值的情况，也有50%的可能永远都高于这个值。"
   ]
  },
  {
   "cell_type": "code",
   "execution_count": 73,
   "metadata": {
    "collapsed": false
   },
   "outputs": [
    {
     "name": "stdout",
     "output_type": "stream",
     "text": [
      "date: 2022-03-20 00:00:00 low:  24673.401103984303\n"
     ]
    }
   ],
   "source": [
    "## Then we know the expected low end of shanghai index as: \n",
    "predict_start = 8986\n",
    "print(\"date:\", start + datetime.timedelta(days=predict_start), \"low: \", exp_func(predict_start, *popt_minima))"
   ]
  },
  {
   "cell_type": "markdown",
   "metadata": {
    "collapsed": false
   },
   "source": [
    "红线是根据前面指数模型训练得到的股指底部的模型预测值。下面的X周仍然是价格天数，不容易看，所以下面转成原始的日期。然后我们增加未来每6个月的时间节点，预测一下股指可能的底部。"
   ]
  },
  {
   "cell_type": "code",
   "execution_count": 74,
   "metadata": {
    "collapsed": false
   },
   "outputs": [],
   "source": [
    "df = pd.DataFrame({'days': x_minima, 'predicted_low':exp_func(x_minima, *popt_minima) })\n",
    "predicted_df = pd.merge(sh, df, on=['days','days'])\n",
    "\n",
    "new_day = predict_start\n",
    "predicted_df.loc[start+datetime.timedelta(days=new_day)] =[-1, -1, -1, -1, 0, -1,  start+datetime.timedelta(days=new_day), new_day, exp_func(new_day, *popt_minima)]  # ['predicted_low'] \n",
    "new_day = predict_start + 10\n",
    "predicted_df.loc[start+datetime.timedelta(days=new_day)] =[-1, -1, -1, -1, 0, -1,  start+datetime.timedelta(days=new_day), new_day, exp_func(new_day, *popt_minima)]  # ['predicted_low'] \n",
    "new_day = predict_start + 20\n",
    "predicted_df.loc[start+datetime.timedelta(days=new_day)] =[-1, -1, -1, -1, 0, -1,  start+datetime.timedelta(days=new_day), new_day, exp_func(new_day, *popt_minima)]  # ['predicted_low'] \n",
    "\n",
    "x_extended=np.append(  x_all[local_min_ix], [predict_start, predict_start + 10, predict_start + 20] )"
   ]
  },
  {
   "cell_type": "markdown",
   "metadata": {},
   "source": [
    "虽然前面的预测模型能够给出大概的一个预测值，但是可能还不够精确。所以为了能够更精确的量化底部每个数值可能出现的概率，针对所有的底部我们再训练一个正态分布模型，看看历史上的底部偏离当前模型最多能偏离多少。"
   ]
  },
  {
   "cell_type": "code",
   "execution_count": 75,
   "metadata": {
    "collapsed": false
   },
   "outputs": [
    {
     "data": {
      "image/png": "[encoded data removed]",
      "text/plain": [
       "<Figure size 1296x504 with 1 Axes>"
      ]
     },
     "metadata": {
      "needs_background": "light"
     },
     "output_type": "display_data"
    }
   ],
   "source": [
    "\n",
    "# Calculate the deviations from exponential model according to historical minima\n",
    "data =( exp_func(x_minima, *popt_minima)-y_minima ) / exp_func(x_minima, *popt_minima)\n",
    "# Fit a normal distribution to the historical deviations.\n",
    "mu, std = scipy.stats.norm.fit(data) \n",
    "\n",
    "# Compute the boundary for later ploting.\n",
    "predicted_df['lower_bound'] = predicted_df['predicted_low'].values *(1-std)\n",
    "predicted_df['upper_bound'] = predicted_df['predicted_low'].values *(1+std)\n",
    "\n",
    "plt.figure(figsize=(18,7))\n",
    "plt.plot(sh['date1'].values, y_all, 'b-', label=\"Shanghai Index\") \n",
    "plt.plot(predicted_df[predicted_df.date1<=end]['date1'].values, predicted_df[predicted_df.date1<=end]['Low'].values, 'ro', label=\"Minima\") \n",
    "plt.plot(predicted_df['date1'].values, predicted_df['predicted_low'].values, 'r-', label=\"Predicted Low\")\n",
    "\n",
    "plt.fill_between(predicted_df['date1'].values, \n",
    "                 predicted_df['lower_bound'].values, \n",
    "                 predicted_df['upper_bound'].values, \n",
    "                 facecolor='yellow', alpha=0.5, label='One Sigma Range')\n",
    "plt.legend()\n",
    "plt.show()\n",
    "\n",
    " "
   ]
  },
  {
   "cell_type": "code",
   "execution_count": 76,
   "metadata": {
    "collapsed": false
   },
   "outputs": [
    {
     "data": {
      "text/html": [
       "<div>\n",
       "<style scoped>\n",
       "    .dataframe tbody tr th:only-of-type {\n",
       "        vertical-align: middle;\n",
       "    }\n",
       "\n",
       "    .dataframe tbody tr th {\n",
       "        vertical-align: top;\n",
       "    }\n",
       "\n",
       "    .dataframe thead th {\n",
       "        text-align: right;\n",
       "    }\n",
       "</style>\n",
       "<table border=\"1\" class=\"dataframe\">\n",
       "  <thead>\n",
       "    <tr style=\"text-align: right;\">\n",
       "      <th></th>\n",
       "      <th>date1</th>\n",
       "      <th>days</th>\n",
       "      <th>Low</th>\n",
       "      <th>predicted_low</th>\n",
       "      <th>lower_bound</th>\n",
       "      <th>upper_bound</th>\n",
       "    </tr>\n",
       "  </thead>\n",
       "  <tbody>\n",
       "    <tr>\n",
       "      <th>0</th>\n",
       "      <td>1998-08-13</td>\n",
       "      <td>366</td>\n",
       "      <td>6544.790039</td>\n",
       "      <td>6048.998375</td>\n",
       "      <td>5210.477963</td>\n",
       "      <td>6887.518787</td>\n",
       "    </tr>\n",
       "    <tr>\n",
       "      <th>1</th>\n",
       "      <td>2001-09-21</td>\n",
       "      <td>1501</td>\n",
       "      <td>8894.360352</td>\n",
       "      <td>8374.414181</td>\n",
       "      <td>7213.541456</td>\n",
       "      <td>9535.286905</td>\n",
       "    </tr>\n",
       "    <tr>\n",
       "      <th>2</th>\n",
       "      <td>2003-04-25</td>\n",
       "      <td>2082</td>\n",
       "      <td>8331.870117</td>\n",
       "      <td>9579.191880</td>\n",
       "      <td>8251.311226</td>\n",
       "      <td>10907.072534</td>\n",
       "    </tr>\n",
       "    <tr>\n",
       "      <th>3</th>\n",
       "      <td>2008-10-27</td>\n",
       "      <td>4094</td>\n",
       "      <td>10676.290039</td>\n",
       "      <td>13828.067479</td>\n",
       "      <td>11911.201890</td>\n",
       "      <td>15744.933069</td>\n",
       "    </tr>\n",
       "    <tr>\n",
       "      <th>4</th>\n",
       "      <td>2010-05-27</td>\n",
       "      <td>4671</td>\n",
       "      <td>18971.519531</td>\n",
       "      <td>15068.857950</td>\n",
       "      <td>12979.992292</td>\n",
       "      <td>17157.723608</td>\n",
       "    </tr>\n",
       "    <tr>\n",
       "      <th>5</th>\n",
       "      <td>2011-10-04</td>\n",
       "      <td>5166</td>\n",
       "      <td>16170.349609</td>\n",
       "      <td>16141.350747</td>\n",
       "      <td>13903.814673</td>\n",
       "      <td>18378.886820</td>\n",
       "    </tr>\n",
       "    <tr>\n",
       "      <th>6</th>\n",
       "      <td>2016-02-12</td>\n",
       "      <td>6758</td>\n",
       "      <td>18278.800781</td>\n",
       "      <td>19641.611735</td>\n",
       "      <td>16918.864706</td>\n",
       "      <td>22364.358765</td>\n",
       "    </tr>\n",
       "    <tr>\n",
       "      <th>7</th>\n",
       "      <td>2018-10-30</td>\n",
       "      <td>7749</td>\n",
       "      <td>24540.630859</td>\n",
       "      <td>21860.303846</td>\n",
       "      <td>18829.998688</td>\n",
       "      <td>24890.609005</td>\n",
       "    </tr>\n",
       "    <tr>\n",
       "      <th>8</th>\n",
       "      <td>2020-03-19</td>\n",
       "      <td>8255</td>\n",
       "      <td>21139.259766</td>\n",
       "      <td>23005.113652</td>\n",
       "      <td>19816.113395</td>\n",
       "      <td>26194.113908</td>\n",
       "    </tr>\n",
       "    <tr>\n",
       "      <th>2022-03-20 00:00:00</th>\n",
       "      <td>2022-03-20</td>\n",
       "      <td>8986</td>\n",
       "      <td>-1.000000</td>\n",
       "      <td>24673.401104</td>\n",
       "      <td>21253.140564</td>\n",
       "      <td>28093.661644</td>\n",
       "    </tr>\n",
       "    <tr>\n",
       "      <th>2022-03-30 00:00:00</th>\n",
       "      <td>2022-03-30</td>\n",
       "      <td>8996</td>\n",
       "      <td>-1.000000</td>\n",
       "      <td>24696.341967</td>\n",
       "      <td>21272.901333</td>\n",
       "      <td>28119.782602</td>\n",
       "    </tr>\n",
       "    <tr>\n",
       "      <th>2022-04-09 00:00:00</th>\n",
       "      <td>2022-04-09</td>\n",
       "      <td>9006</td>\n",
       "      <td>-1.000000</td>\n",
       "      <td>24719.286051</td>\n",
       "      <td>21292.664876</td>\n",
       "      <td>28145.907225</td>\n",
       "    </tr>\n",
       "  </tbody>\n",
       "</table>\n",
       "</div>"
      ],
      "text/plain": [
       "                         date1  days           Low  predicted_low  \\\n",
       "0                   1998-08-13   366   6544.790039    6048.998375   \n",
       "1                   2001-09-21  1501   8894.360352    8374.414181   \n",
       "2                   2003-04-25  2082   8331.870117    9579.191880   \n",
       "3                   2008-10-27  4094  10676.290039   13828.067479   \n",
       "4                   2010-05-27  4671  18971.519531   15068.857950   \n",
       "5                   2011-10-04  5166  16170.349609   16141.350747   \n",
       "6                   2016-02-12  6758  18278.800781   19641.611735   \n",
       "7                   2018-10-30  7749  24540.630859   21860.303846   \n",
       "8                   2020-03-19  8255  21139.259766   23005.113652   \n",
       "2022-03-20 00:00:00 2022-03-20  8986     -1.000000   24673.401104   \n",
       "2022-03-30 00:00:00 2022-03-30  8996     -1.000000   24696.341967   \n",
       "2022-04-09 00:00:00 2022-04-09  9006     -1.000000   24719.286051   \n",
       "\n",
       "                      lower_bound   upper_bound  \n",
       "0                     5210.477963   6887.518787  \n",
       "1                     7213.541456   9535.286905  \n",
       "2                     8251.311226  10907.072534  \n",
       "3                    11911.201890  15744.933069  \n",
       "4                    12979.992292  17157.723608  \n",
       "5                    13903.814673  18378.886820  \n",
       "6                    16918.864706  22364.358765  \n",
       "7                    18829.998688  24890.609005  \n",
       "8                    19816.113395  26194.113908  \n",
       "2022-03-20 00:00:00  21253.140564  28093.661644  \n",
       "2022-03-30 00:00:00  21272.901333  28119.782602  \n",
       "2022-04-09 00:00:00  21292.664876  28145.907225  "
      ]
     },
     "execution_count": 76,
     "metadata": {},
     "output_type": "execute_result"
    }
   ],
   "source": [
    "# 下面这个表格基本就是上面图里面的数据，不过更容易看一点。\n",
    "# Now we check a few statistics and first of all those are the data of previous chart:\n",
    "predicted_df[['date1','days','Low', 'predicted_low','lower_bound','upper_bound']]"
   ]
  },
  {
   "cell_type": "markdown",
   "metadata": {},
   "source": []
  },
  {
   "cell_type": "markdown",
   "metadata": {
    "collapsed": true
   },
   "source": [
    "上面的图中，黄色区域的上下界分别是股指底部可能上下浮动的一倍Sigma的区间。其实，大部分的时候(70%)，股指底部是出现在这个区间的。肯定有人会问的是，股指底部继续向下跌穿2791的概率是多少呢？\n",
    "\n",
    "这个问题，翻译过来就是，一个值如果低于1倍的Sigma，出现的概率是多少呢？大概是这个数："
   ]
  },
  {
   "cell_type": "code",
   "execution_count": 77,
   "metadata": {
    "collapsed": false
   },
   "outputs": [
    {
     "name": "stdout",
     "output_type": "stream",
     "text": [
      "0.15865525393145707\n",
      "0.8413447460685429\n"
     ]
    }
   ],
   "source": [
    "print(scipy.stats.norm(mu, std).cdf(mu-std))\n",
    "print(scipy.stats.norm(mu, std).cdf(mu+std))\n"
   ]
  },
  {
   "cell_type": "markdown",
   "metadata": {},
   "source": [
    "#我们来看一个统计情况：\n",
    "首先看一下隔多久出现一次最低值。根据下面的计算，大概最小的是193个交易日，相隔最久的是1212个交易日。我们再来看一下一年多少个交易日。根据\n",
    "[这个链接](http://zhidao.baidu.com/question/347142653.html) ，\n",
    "2001年至2010年十年间年平均交易日是240.8天。2010年的交易日是242天。不过由于周末与年的频率不一致，所以每年可能会由1天左右的上下浮动，所以比较准确的说法是(241±1)天。。\n",
    "\n",
    "也就是说最长5年里面一个最低值。5年内一直不出现最低值，应该就是传说中的牛市了吧。"
   ]
  },
  {
   "cell_type": "code",
   "execution_count": null,
   "metadata": {
    "collapsed": false
   },
   "outputs": [],
   "source": []
  },
  {
   "cell_type": "markdown",
   "metadata": {},
   "source": []
  }
 ],
 "metadata": {
  "interpreter": {
   "hash": "4d1fcb6f5345094e0794c65776bf99e43b96f5493787a7abb67e0d48dba9fe86"
  },
  "kernelspec": {
   "display_name": "Python 2",
   "language": "python",
   "name": "python3"
  },
  "language_info": {
   "codemirror_mode": {
    "name": "ipython",
    "version": 3
   },
   "file_extension": ".py",
   "mimetype": "text/x-python",
   "name": "python",
   "nbconvert_exporter": "python",
   "pygments_lexer": "ipython3",
   "version": "3.8.10"
  }
 },
 "nbformat": 4,
 "nbformat_minor": 0
}
